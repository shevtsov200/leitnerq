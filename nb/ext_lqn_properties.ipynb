{
 "cells": [
  {
   "cell_type": "code",
   "execution_count": null,
   "metadata": {},
   "outputs": [],
   "source": [
    "using JuMP\n",
    "using Gadfly\n",
    "using Ipopt"
   ]
  },
  {
   "cell_type": "code",
   "execution_count": null,
   "metadata": {},
   "outputs": [],
   "source": [
    "eps = 1e-6"
   ]
  },
  {
   "cell_type": "code",
   "execution_count": null,
   "metadata": {},
   "outputs": [],
   "source": [
    "function solve_spp(num_systems, num_decks, work_rate_budget, difficulty_rate)\n",
    "    m = Model(with_optimizer(Ipopt.Optimizer))\n",
    "    @variable(m, u[1:num_systems, 1:num_decks] >= 0)\n",
    "    @variable(m, a >= 0)\n",
    "    @variable(m, l[1:num_systems, 1:num_decks] >= 0)\n",
    "    @constraint(m, a + sum(u) <= work_rate_budget)\n",
    "    for i = 1:num_systems        \n",
    "        l_max = -log(1-i/num_systems+eps)/difficulty_rate\n",
    "        l_min = -log(1-(i-1)/num_systems+eps)/difficulty_rate\n",
    "        difficulty = (exp(-l_min * difficulty_rate) * (l_min * difficulty_rate + 1) - \n",
    "            exp(-l_max * difficulty_rate) * (l_max * difficulty_rate + 1)) / difficulty_rate\n",
    "        for j = 1:num_decks\n",
    "            @constraint(m, l[i, j] <= u[i, j])\n",
    "        end\n",
    "        @NLconstraint(m, l[i, 1] == a/num_systems + (1 - (u[i, 1] - l[i, 1]) / \n",
    "            (u[i, 1] - l[i, 1] + difficulty)) * l[i, 1] + (1 - (u[i, 2] - l[i, 2]) / \n",
    "            (u[i, 2] - l[i, 2] + difficulty / 2)) * l[i, 2])\n",
    "        for j = 2:num_decks-1\n",
    "            @NLconstraint(m, l[i, j] == (u[i, j-1] - l[i, j-1]) / (u[i, j-1] - l[i, j-1] \n",
    "                + difficulty / (j-1)) * l[i, j-1] + (1 - (u[i, j+1] - l[i, j+1]) / \n",
    "                (u[i, j+1] - l[i, j+1] + difficulty / (j+1))) * l[i, j+1])\n",
    "        end\n",
    "        @NLconstraint(m, l[i, num_decks] == (u[i, num_decks-1] - l[i, num_decks-1]) /\n",
    "            (u[i, num_decks-1] - l[i, num_decks-1] + difficulty / (num_decks-1)) * l[i, num_decks-1])\n",
    "    end\n",
    "    @NLobjective(m, Max, a)\n",
    "    TT = stdout\n",
    "    redirect_stdout()\n",
    "    optimize!(m)\n",
    "    status = termination_status(m)\n",
    "    redirect_stdout(TT)\n",
    "    return objective_value(m), value.(u), value.(l)\n",
    "end"
   ]
  },
  {
   "cell_type": "code",
   "execution_count": null,
   "metadata": {},
   "outputs": [],
   "source": [
    "num_decks = 10\n",
    "work_rate_budget = 0.19020740740740741"
   ]
  },
  {
   "cell_type": "code",
   "execution_count": null,
   "metadata": {},
   "outputs": [],
   "source": [
    "num_systems = 1\n",
    "difficulty_rate = 1 / 0.0076899999999998905"
   ]
  },
  {
   "cell_type": "code",
   "execution_count": null,
   "metadata": {},
   "outputs": [],
   "source": [
    "solve_spp(num_systems, num_decks, work_rate_budget, difficulty_rate)"
   ]
  },
  {
   "cell_type": "code",
   "execution_count": null,
   "metadata": {},
   "outputs": [],
   "source": [
    "difficulty_rates = [1 / 0.0076899999999998905]"
   ]
  },
  {
   "cell_type": "code",
   "execution_count": null,
   "metadata": {},
   "outputs": [],
   "source": [
    "difficulty_rates = 1 ./ collect(0.001:0.001:0.01)"
   ]
  },
  {
   "cell_type": "code",
   "execution_count": null,
   "metadata": {},
   "outputs": [],
   "source": [
    "num_systems_set = 1:1:5"
   ]
  },
  {
   "cell_type": "code",
   "execution_count": null,
   "metadata": {},
   "outputs": [],
   "source": [
    "throughputs = [-1. for x in difficulty_rates, y in num_systems_set]\n",
    "allocations = [[-1. for z in 1:y, w in 1:num_decks] for x in difficulty_rates, y in num_systems_set];"
   ]
  },
  {
   "cell_type": "code",
   "execution_count": null,
   "metadata": {
    "scrolled": true
   },
   "outputs": [],
   "source": [
    "for (i, difficulty_rate) in enumerate(difficulty_rates)\n",
    "    for (j, num_systems) in enumerate(num_systems_set)\n",
    "        m, u, l = solve_spp(num_systems, num_decks, work_rate_budget, difficulty_rate)\n",
    "        throughputs[i, j] = m\n",
    "        allocations[i, j] = u\n",
    "    end\n",
    "end"
   ]
  },
  {
   "cell_type": "code",
   "execution_count": null,
   "metadata": {},
   "outputs": [],
   "source": [
    "colors = [\"gray\", \"gray\", \"yellow\", \"yellow\", \"orange\", \"orange\", \"pink\", \"pink\", \"red\", \"red\"]"
   ]
  },
  {
   "cell_type": "code",
   "execution_count": null,
   "metadata": {},
   "outputs": [],
   "source": [
    "d = 1\n",
    "p1 = plot(x=[z[1] for z in collect(filter(a -> a[2]>0, zip(1:num_systems, throughputs[d, :])))], \n",
    "y=[z[2] for z in collect(filter(a -> a[2]>0, zip(1:num_systems, throughputs[d, :])))], Geom.point, Geom.line,\n",
    "Guide.xlabel(\"Number of Systems\"), Guide.ylabel(\"Max Arrival Rate\"), Guide.title(\"Value of Information\"))"
   ]
  },
  {
   "cell_type": "code",
   "execution_count": null,
   "metadata": {},
   "outputs": [],
   "source": [
    "p2 = plot(map(d -> layer(x=[z[1] for z in collect(filter(a -> a[2]>0, zip(1:num_systems, throughputs[d, :])))], \n",
    "y=[z[2] for z in collect(filter(a -> a[2]>0, zip(1:num_systems, throughputs[d, :])))], \n",
    "Theme(default_color=color(colors[d])), Geom.line)[1], 1:length(difficulty_rates)), \n",
    "Guide.xlabel(\"Number of Systems\"), Guide.ylabel(\"Max Arrival Rate\"), Guide.title(\"Value of Information\"))"
   ]
  },
  {
   "cell_type": "code",
   "execution_count": null,
   "metadata": {},
   "outputs": [],
   "source": [
    "draw(PDF(\"figures/lqn/ext1.pdf\", 12cm, 8cm), p2)"
   ]
  },
  {
   "cell_type": "code",
   "execution_count": null,
   "metadata": {},
   "outputs": [],
   "source": [
    "p3 = plot(map(d -> layer(x=[z[1] for z in collect(filter(a -> a[2]>0, zip(1:num_systems, throughputs[d, :])))], \n",
    "y=([z[2] for z in collect(filter(a -> a[2]>0, zip(1:num_systems, throughputs[d, :])))] .- minimum([z[2] for z in collect(filter(a -> a[2]>0, zip(1:num_systems, throughputs[d, :])))])) ./ minimum([z[2] for z in collect(filter(a -> a[2]>0, zip(1:num_systems, throughputs[d, :])))]), \n",
    "Theme(default_color=color(colors[d])), Geom.line)[1], 1:length(difficulty_rates)), \n",
    "Guide.xlabel(\"Number of Systems\"), Guide.ylabel(\"Relative Throughput Gain\"), Guide.title(\"Value of Information\"))"
   ]
  },
  {
   "cell_type": "code",
   "execution_count": null,
   "metadata": {},
   "outputs": [],
   "source": [
    "draw(PDF(\"figures/lqn/ext2.pdf\", 12cm, 8cm), p3)"
   ]
  },
  {
   "cell_type": "code",
   "execution_count": null,
   "metadata": {},
   "outputs": [],
   "source": [
    "n = 10\n",
    "p4 = plot(map(d -> layer(x=1:n, y=[sum(allocations[d, n][x, :]) for x=1:n], \n",
    "Theme(default_color=color(colors[d])), Geom.line)[1], 1:length(difficulty_rates)), \n",
    "Guide.xlabel(\"System\"), Guide.ylabel(\"Total Work Rate\"), Guide.title(\"Optimal Work Rate Allocation\"))"
   ]
  },
  {
   "cell_type": "code",
   "execution_count": null,
   "metadata": {},
   "outputs": [],
   "source": [
    "draw(PDF(\"figures/lqn/ext3.pdf\", 12cm, 8cm), p4)"
   ]
  },
  {
   "cell_type": "code",
   "execution_count": null,
   "metadata": {},
   "outputs": [],
   "source": [
    "colors = [\"gray\", \"yellow\", \"orange\", \"pink\", \"red\"]"
   ]
  },
  {
   "cell_type": "code",
   "execution_count": null,
   "metadata": {},
   "outputs": [],
   "source": [
    "n = 5\n",
    "p5 = plot(map(d -> layer(x=1:num_decks, y=allocations[1, n][d, :], \n",
    "Theme(default_color=color(colors[d])), Geom.line)[1], 1:n), \n",
    "Guide.xlabel(\"Deck\"), Guide.ylabel(\"Work Rate\"), Guide.title(\"Optimal Work Rate Allocation\"))"
   ]
  },
  {
   "cell_type": "code",
   "execution_count": null,
   "metadata": {},
   "outputs": [],
   "source": [
    "draw(PDF(\"figures/lqn/ext4.pdf\", 12cm, 8cm), p5)"
   ]
  },
  {
   "cell_type": "code",
   "execution_count": null,
   "metadata": {},
   "outputs": [],
   "source": [
    "n = 5\n",
    "p6 = plot(map(d -> layer(x=1:num_decks, y=(allocations[1, n][d, :] ./ sum(allocations[1, n][d, :])), \n",
    "Theme(default_color=color(colors[d])), Geom.line)[1], 1:n), \n",
    "Guide.xlabel(\"Deck\"), Guide.ylabel(\"Work Rate (Normalized)\"), Guide.title(\"Optimal Work Rate Allocation\"))"
   ]
  },
  {
   "cell_type": "code",
   "execution_count": null,
   "metadata": {},
   "outputs": [],
   "source": [
    "draw(PDF(\"figures/lqn/ext5.pdf\", 12cm, 8cm), p6)"
   ]
  },
  {
   "cell_type": "code",
   "execution_count": null,
   "metadata": {},
   "outputs": [],
   "source": [
    "println(collect(throughputs))"
   ]
  },
  {
   "cell_type": "code",
   "execution_count": null,
   "metadata": {
    "scrolled": false
   },
   "outputs": [],
   "source": [
    "for x=1:num_systems\n",
    "    println(collect(allocations[1, x]))\n",
    "end"
   ]
  },
  {
   "cell_type": "code",
   "execution_count": null,
   "metadata": {},
   "outputs": [],
   "source": []
  }
 ],
 "metadata": {
  "kernelspec": {
   "display_name": "Julia 1.1.0",
   "language": "julia",
   "name": "julia-1.1"
  },
  "language_info": {
   "file_extension": ".jl",
   "mimetype": "application/julia",
   "name": "julia",
   "version": "1.1.0"
  }
 },
 "nbformat": 4,
 "nbformat_minor": 1
}
